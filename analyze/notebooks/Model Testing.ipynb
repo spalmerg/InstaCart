{
 "cells": [
  {
   "cell_type": "markdown",
   "metadata": {},
   "source": [
    "# Instacart Recommender PoC\n",
    "## Introduction\n",
    "\n",
    "### Purpose of this notebook\n",
    "The purpose of this notebook is to assess the validity of using an item-based recommender for Instacart\n",
    "\n",
    "### Prior work\n",
    "* EDA\n",
    "\n",
    "### Next Steps\n",
    "* Build recommender on InstaCart purchases\n",
    "\n",
    "### Guiding questions\n",
    "* What is a good proxy for rating? \n",
    "* Is order data, rather than user data, an OK granularity level? \n",
    "\n",
    "### Key findings\n",
    "* INCLUDE HERE\n",
    "\n",
    "### Related Notebooks\n",
    "* Insert EDA Notebook here... "
   ]
  },
  {
   "cell_type": "markdown",
   "metadata": {},
   "source": [
    "## Imports and configurations"
   ]
  },
  {
   "cell_type": "code",
   "execution_count": 1,
   "metadata": {},
   "outputs": [],
   "source": [
    "import pandas as pd\n",
    "import numpy as np\n",
    "from surprise import KNNBaseline, Dataset, Reader, accuracy\n",
    "import matplotlib.pyplot as plt\n",
    "import psycopg2\n",
    "import os\n",
    "import matplotlib.pyplot as plt\n",
    "from surprise.model_selection import train_test_split"
   ]
  },
  {
   "cell_type": "markdown",
   "metadata": {},
   "source": [
    "## Load and prep data"
   ]
  },
  {
   "cell_type": "markdown",
   "metadata": {},
   "source": [
    "Read in CSVs from Instacart."
   ]
  },
  {
   "cell_type": "code",
   "execution_count": 2,
   "metadata": {},
   "outputs": [],
   "source": [
    "orders = pd.read_csv(\"../../Data/order_products__train.csv\")\n",
    "products = pd.read_csv(\"../../Data/products.csv\")\n",
    "aisles = pd.read_csv(\"../../Data/aisles.csv\")"
   ]
  },
  {
   "cell_type": "code",
   "execution_count": 12,
   "metadata": {},
   "outputs": [],
   "source": [
    "def format_recommend(orders):\n",
    "  \"\"\" This function takes the InstaCart orders dataframe \n",
    "  and returns formats the dataframe for the surprise \n",
    "  recommendation library of the top 250 products sold by \n",
    "  InstaCart for model and app simplicity. \n",
    "\n",
    "  Args: \n",
    "    orders(csv): Instacart order_products__train.csv\n",
    "\n",
    "  Returns:\n",
    "    Dataframe with columns order_id, product_id, and rating\n",
    "\n",
    "  \"\"\"\n",
    "  counts = orders['product_id'].value_counts().reset_index().head(250)\n",
    "  counts.columns = ['product_id', 'frequency_count']\n",
    "  orders = orders[orders.product_id.isin(counts.product_id)]\n",
    "  orders['rating'] = np.log(orders.add_to_cart_order)\n",
    "  orders = orders[['order_id', 'product_id','rating']]\n",
    "  return(orders)"
   ]
  },
  {
   "cell_type": "code",
   "execution_count": 13,
   "metadata": {},
   "outputs": [
    {
     "name": "stderr",
     "output_type": "stream",
     "text": [
      "/Users/sarahgreenwood/anaconda/lib/python3.6/site-packages/ipykernel_launcher.py:17: SettingWithCopyWarning: \n",
      "A value is trying to be set on a copy of a slice from a DataFrame.\n",
      "Try using .loc[row_indexer,col_indexer] = value instead\n",
      "\n",
      "See the caveats in the documentation: http://pandas.pydata.org/pandas-docs/stable/indexing.html#indexing-view-versus-copy\n"
     ]
    },
    {
     "data": {
      "text/plain": [
       "(450859, 3)"
      ]
     },
     "execution_count": 13,
     "metadata": {},
     "output_type": "execute_result"
    }
   ],
   "source": [
    "recommend = format_recommend(orders)\n",
    "recommend.shape"
   ]
  },
  {
   "cell_type": "markdown",
   "metadata": {},
   "source": [
    "## Build and test model"
   ]
  },
  {
   "cell_type": "markdown",
   "metadata": {},
   "source": [
    "Convert data to surprise format and set scale as the minimum being the best and the max rating being the worst. "
   ]
  },
  {
   "cell_type": "code",
   "execution_count": 15,
   "metadata": {},
   "outputs": [],
   "source": [
    "def get_data(data):\n",
    "  reader = Reader(rating_scale = (max(data.rating),min(data.rating)))\n",
    "  data = Dataset.load_from_df(data, reader)\n",
    "  return(data)"
   ]
  },
  {
   "cell_type": "code",
   "execution_count": 16,
   "metadata": {},
   "outputs": [],
   "source": [
    "recommend = get_data(recommend)"
   ]
  },
  {
   "cell_type": "code",
   "execution_count": 18,
   "metadata": {},
   "outputs": [],
   "source": [
    "trainset, testset = train_test_split(recommend, test_size=.25)"
   ]
  },
  {
   "cell_type": "code",
   "execution_count": 19,
   "metadata": {},
   "outputs": [
    {
     "name": "stdout",
     "output_type": "stream",
     "text": [
      "Estimating biases using als...\n",
      "Computing the pearson_baseline similarity matrix...\n",
      "Done computing similarity matrix.\n"
     ]
    },
    {
     "data": {
      "text/plain": [
       "<surprise.prediction_algorithms.knns.KNNBaseline at 0x123725860>"
      ]
     },
     "execution_count": 19,
     "metadata": {},
     "output_type": "execute_result"
    }
   ],
   "source": [
    "sim_options = {\n",
    "    'name': 'pearson_baseline', \n",
    "    'user_based': False}\n",
    "algo = KNNBaseline(k=10, sim_options = sim_options)\n",
    "algo.fit(trainset)"
   ]
  },
  {
   "cell_type": "code",
   "execution_count": 20,
   "metadata": {},
   "outputs": [
    {
     "name": "stdout",
     "output_type": "stream",
     "text": [
      "RMSE: 2.8038\n"
     ]
    },
    {
     "data": {
      "text/plain": [
       "2.8037817084012833"
      ]
     },
     "execution_count": 20,
     "metadata": {},
     "output_type": "execute_result"
    }
   ],
   "source": [
    "predictions = algo.test(testset)\n",
    "\n",
    "# Then compute RMSE\n",
    "accuracy.rmse(predictions)"
   ]
  },
  {
   "cell_type": "code",
   "execution_count": null,
   "metadata": {},
   "outputs": [],
   "source": []
  },
  {
   "cell_type": "code",
   "execution_count": null,
   "metadata": {},
   "outputs": [],
   "source": []
  }
 ],
 "metadata": {
  "kernelspec": {
   "display_name": "Python 3",
   "language": "python",
   "name": "python3"
  },
  "language_info": {
   "codemirror_mode": {
    "name": "ipython",
    "version": 3
   },
   "file_extension": ".py",
   "mimetype": "text/x-python",
   "name": "python",
   "nbconvert_exporter": "python",
   "pygments_lexer": "ipython3",
   "version": "3.6.4"
  }
 },
 "nbformat": 4,
 "nbformat_minor": 2
}
